{
 "cells": [
  {
   "cell_type": "markdown",
   "id": "1d7373d3",
   "metadata": {},
   "source": [
    "# manager\n",
    "\n",
    "> where to store beats"
   ]
  },
  {
   "cell_type": "code",
   "execution_count": null,
   "id": "a34b5766",
   "metadata": {},
   "outputs": [],
   "source": [
    "#| default_exp manager"
   ]
  },
  {
   "cell_type": "code",
   "execution_count": null,
   "id": "ae6e2420",
   "metadata": {},
   "outputs": [],
   "source": [
    "#| hide\n",
    "from nbdev.showdoc import *"
   ]
  },
  {
   "cell_type": "code",
   "execution_count": null,
   "id": "5969f545",
   "metadata": {},
   "outputs": [],
   "source": [
    "#| export\n",
    "import os\n",
    "\n",
    "def store_beat(beat, beat_name):\n",
    "    if not os.path.exists(\"beats\"):\n",
    "        os.mkdir('beats')\n",
    "    filename = f\"beats/{beat_name}.mid\"\n",
    "    print(f\"Writing beat to {filename}.\")\n",
    "    beat.write(filename)"
   ]
  },
  {
   "cell_type": "code",
   "execution_count": null,
   "id": "8afe8f2f",
   "metadata": {},
   "outputs": [],
   "source": [
    "#| export\n",
    "from pretty_midi import Note\n",
    "\n",
    "def copy_note(note: Note, start=None, end=None, velocity=None, pitch=None):\n",
    "    if start is None:\n",
    "        start = note.start\n",
    "    if end is None:\n",
    "        end = note.end\n",
    "    if velocity is None:\n",
    "        velocity = note.velocity\n",
    "    if pitch is None:\n",
    "        pitch = note.pitch\n",
    "    \n",
    "    return Note(start=start, end=end, velocity=velocity, pitch=pitch)\n",
    "\n",
    "def shift_notes(notes, shift_amount=None):\n",
    "    if shift_amount is None:\n",
    "        first_start = min([note.start for note in notes])\n",
    "        shift_amount = -1 * first_start\n",
    "    return [copy_note(note, start=note.start + shift_amount, end=note.end + shift_amount) for note in notes]\n",
    "\n",
    "def alter_note(note: Note, ratio=None, new_velocity=None, new_pitch=None):\n",
    "    if ratio is not None:\n",
    "        new_start = note.start * ratio\n",
    "        new_length = ratio * note.duration\n",
    "        new_end = new_start + new_length\n",
    "        return copy_note(note, start=new_start, end=new_end, velocity=new_velocity, pitch=new_pitch)\n",
    "    else:\n",
    "        start = note.start\n",
    "    \n",
    "        return copy_note(note, velocity=new_velocity, pitch=new_pitch)"
   ]
  },
  {
   "cell_type": "code",
   "execution_count": null,
   "id": "2b3250e0",
   "metadata": {},
   "outputs": [],
   "source": [
    "notes = [   \n",
    "    Note(start=1, end=2, pitch=1, velocity=80),\n",
    "    Note(start=2, end=3, pitch=0, velocity=80),\n",
    "    Note(start=3, end=4, pitch=0, velocity=80),\n",
    "    Note(start=3, end=4, pitch=1, velocity=80)\n",
    "]"
   ]
  },
  {
   "cell_type": "code",
   "execution_count": null,
   "id": "b7b690fd",
   "metadata": {},
   "outputs": [
    {
     "data": {
      "text/plain": [
       "[Note(start=0.000000, end=1.000000, pitch=1, velocity=80),\n",
       " Note(start=1.000000, end=2.000000, pitch=0, velocity=80),\n",
       " Note(start=2.000000, end=3.000000, pitch=0, velocity=80),\n",
       " Note(start=2.000000, end=3.000000, pitch=1, velocity=80)]"
      ]
     },
     "execution_count": null,
     "metadata": {},
     "output_type": "execute_result"
    }
   ],
   "source": [
    "shift_notes(notes, -1)"
   ]
  },
  {
   "cell_type": "code",
   "execution_count": null,
   "id": "b2490ac1",
   "metadata": {},
   "outputs": [
    {
     "data": {
      "text/plain": [
       "[Note(start=0.000000, end=1.000000, pitch=1, velocity=80),\n",
       " Note(start=1.000000, end=2.000000, pitch=0, velocity=80),\n",
       " Note(start=2.000000, end=3.000000, pitch=0, velocity=80),\n",
       " Note(start=2.000000, end=3.000000, pitch=1, velocity=80)]"
      ]
     },
     "execution_count": null,
     "metadata": {},
     "output_type": "execute_result"
    }
   ],
   "source": [
    "shift_notes(notes)"
   ]
  },
  {
   "cell_type": "code",
   "execution_count": null,
   "id": "1b732482",
   "metadata": {},
   "outputs": [
    {
     "data": {
      "text/plain": [
       "[Note(start=4.000000, end=5.000000, pitch=1, velocity=80),\n",
       " Note(start=5.000000, end=6.000000, pitch=0, velocity=80),\n",
       " Note(start=6.000000, end=7.000000, pitch=0, velocity=80),\n",
       " Note(start=6.000000, end=7.000000, pitch=1, velocity=80)]"
      ]
     },
     "execution_count": null,
     "metadata": {},
     "output_type": "execute_result"
    }
   ],
   "source": [
    "shift_notes(notes, 3)"
   ]
  },
  {
   "cell_type": "code",
   "execution_count": null,
   "id": "0365377c",
   "metadata": {},
   "outputs": [],
   "source": [
    "#| hide\n",
    "import nbdev; nbdev.nbdev_export()"
   ]
  }
 ],
 "metadata": {
  "kernelspec": {
   "display_name": "Python 3 (ipykernel)",
   "language": "python",
   "name": "python3"
  }
 },
 "nbformat": 4,
 "nbformat_minor": 5
}
