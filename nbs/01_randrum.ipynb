{
 "cells": [
  {
   "cell_type": "markdown",
   "metadata": {},
   "source": [
    "# randrum\n",
    "\n",
    "> Makes a random drum beat"
   ]
  },
  {
   "cell_type": "code",
   "execution_count": null,
   "metadata": {},
   "outputs": [],
   "source": [
    "#| default_exp randrum"
   ]
  },
  {
   "cell_type": "code",
   "execution_count": null,
   "metadata": {},
   "outputs": [],
   "source": [
    "#| hide\n",
    "from nbdev.showdoc import *"
   ]
  },
  {
   "cell_type": "code",
   "execution_count": null,
   "metadata": {},
   "outputs": [],
   "source": [
    "#| export\n",
    "midi_note_to_drum_name = {\n",
    "    35: \"KickL\",\n",
    "    36: \"KickR\",\n",
    "    37: \"SnareRest\",\n",
    "    38: \"Snare\",\n",
    "    41: \"Tom4\",\n",
    "    42: \"HihatClosed\",\n",
    "    45: \"Tom3\",\n",
    "    46: \"HihatOpen\",\n",
    "    47: \"Tom2\",\n",
    "    48: \"Tom1\",\n",
    "    49: \"CrashL\",\n",
    "    51: \"RideR\",\n",
    "    52: \"China\",\n",
    "    53: \"RideRBell\",\n",
    "    55: \"RideLBell\",\n",
    "    57: \"CrashR\",\n",
    "    59: \"RideL\",\n",
    "}\n",
    "\n",
    "note_names = ['C', 'C#', 'D', 'D#', 'E', 'F', 'F#', 'G', 'G#', 'A', 'A#', 'B', ]\n",
    "note_names.extend(note_names)\n",
    "\n",
    "midi_map2 = {i: note_names[i - 36] for i in range(36, 52)}\n",
    "\n",
    "drum_name_to_note = {v: k for k, v in midi_note_to_drum_name.items()}\n",
    "\n",
    "drum_names = list(drum_name_to_note.keys())\n",
    "feet = ['KickL', 'KickR']\n",
    "hands = ['SnareRest', 'Snare', 'Tom4', 'HihatClosed', 'Tom3', 'HihatOpen', 'Tom2', 'Tom1', 'CrashL', 'RideR', 'China', 'RideRBell', 'RideLBell', 'CrashR', 'RideL']\n",
    "\n",
    "\n",
    "def drum_cleaner(drum_notes):\n",
    "    # TODO\n",
    "    # check that we do not have overlapping kicks\n",
    "    # check that L and R kick alternate\n",
    "    # make sure we do not have 3 hand drums playing at the same time\n",
    "    cleaned_drum_notes = drum_notes\n",
    "    return cleaned_drum_notes"
   ]
  },
  {
   "cell_type": "code",
   "execution_count": null,
   "metadata": {},
   "outputs": [
    {
     "data": {
      "text/plain": [
       "{36: 'C',\n",
       " 37: 'C#',\n",
       " 38: 'D',\n",
       " 39: 'D#',\n",
       " 40: 'E',\n",
       " 41: 'F',\n",
       " 42: 'F#',\n",
       " 43: 'G',\n",
       " 44: 'G#',\n",
       " 45: 'A',\n",
       " 46: 'A#',\n",
       " 47: 'B',\n",
       " 48: 'C',\n",
       " 49: 'C#',\n",
       " 50: 'D',\n",
       " 51: 'D#'}"
      ]
     },
     "execution_count": null,
     "metadata": {},
     "output_type": "execute_result"
    }
   ],
   "source": [
    "midi_map2"
   ]
  },
  {
   "cell_type": "code",
   "execution_count": null,
   "metadata": {},
   "outputs": [],
   "source": [
    "#| export\n",
    "import pretty_midi\n",
    "import random\n",
    "from freq_beat.manager import store_beat\n",
    "from freq_beat.splitter import split_note\n",
    "\n",
    "class Beat:\n",
    "    def __init__(self) -> None:\n",
    "        self.song = pretty_midi.PrettyMIDI()\n",
    "        self.drums = pretty_midi.Instrument(program=0)\n",
    "        self.possible_pitches = list(midi_map2.keys())\n",
    "        self.beat_name = \"rand-beat\"\n",
    "        self.notes = []\n",
    "        \n",
    "    def create_random_line(self, beat_length, song_length=10, play_prob=0.4):\n",
    "        num_beats = int(song_length // beat_length)\n",
    "        for i in range(num_beats):\n",
    "            play = random.uniform(0, 1) < play_prob\n",
    "            if play:\n",
    "                pitch = random.choice(self.possible_pitches)\n",
    "                start = i * beat_length\n",
    "                end = start + beat_length\n",
    "                note = pretty_midi.Note(start=start, end=end, velocity=80, pitch=pitch)\n",
    "                split = random.uniform(0, 1) < 0.2\n",
    "                if split:\n",
    "                    notes = split_note(note, 4)\n",
    "                    for piece in notes:\n",
    "                        self.notes.append(piece)\n",
    "                else:\n",
    "                    self.notes.append(note)\n",
    "                    \n",
    "    def add_to_end(self, notes):\n",
    "        current_end = max([note.end for note in self.notes])\n",
    "        self.notes.extend(shift_notes(notes, current_end))\n",
    "                    \n",
    "    def create_random_song(self):\n",
    "        # right now allowing three notes at the same time\n",
    "        self.create_random_line(0.25, play_prob=.75)\n",
    "        motif = Motif(shift_notes(self.notes[-10:]))\n",
    "        motif_halftime = motif.concretize(2, {})\n",
    "        motif_doubletime = motif.concretize(0.5, {})\n",
    "        self.create_random_line(0.25)\n",
    "        self.create_random_line(0.25)\n",
    "        self.add_to_end(motif_halftime)\n",
    "        self.add_to_end(motif_doubletime)\n",
    "\n",
    "        for note in self.notes:\n",
    "            self.drums.notes.append(note)\n",
    "        self.song.instruments.append(self.drums)\n",
    "        store_beat(self.song, self.beat_name)"
   ]
  },
  {
   "cell_type": "code",
   "execution_count": null,
   "metadata": {},
   "outputs": [],
   "source": [
    "#| export\n",
    "from freq_beat.motif import Motif\n",
    "from freq_beat.manager import alter_note, shift_notes\n",
    "\n",
    "class DrumBeat(Beat):\n",
    "    def __init__(self) -> None:\n",
    "        super().__init__()\n",
    "        self.beat_name = \"rand-drum-beat\"\n",
    "        \n",
    "    def create_random_line(self, beat_length, drum_group, song_length=10, play_prob=0.4):\n",
    "        num_beats = int(song_length // beat_length)\n",
    "        for i in range(num_beats):\n",
    "            play = random.uniform(0, 1) < play_prob\n",
    "            if play:\n",
    "                drum_to_play = random.choice(drum_group)\n",
    "                pitch = drum_name_to_note[drum_to_play]\n",
    "                start = i * beat_length\n",
    "                end = start + beat_length\n",
    "                note = pretty_midi.Note(start=start, end=end, velocity=80, pitch=pitch)\n",
    "                split_rand = random.uniform(0, 1)\n",
    "                if split_rand > 0.70:\n",
    "                    if split_rand > 0.95:\n",
    "                        pieces = split_note(note, 8)\n",
    "                    elif split_rand > 0.85:\n",
    "                        pieces = split_note(note, 4)\n",
    "                    else:\n",
    "                        pieces = split_note(note, 2)\n",
    "                    for piece in pieces:\n",
    "                        self.notes.append(piece)\n",
    "                else:\n",
    "                    self.notes.append(note)\n",
    "                    \n",
    "    def create_random_song(self):\n",
    "        self.create_random_line(0.25, feet, play_prob=.75)\n",
    "        self.create_random_line(0.25, hands)\n",
    "        self.create_random_line(0.25, hands)\n",
    "        for note in self.notes:\n",
    "            self.drums.notes.append(note)\n",
    "        self.song.instruments.append(self.drums)\n",
    "        store_beat(self.song, self.beat_name)"
   ]
  },
  {
   "cell_type": "code",
   "execution_count": null,
   "metadata": {},
   "outputs": [
    {
     "name": "stdout",
     "output_type": "stream",
     "text": [
      "Writing beat to beats/rand-drum-beat.mid.\n"
     ]
    }
   ],
   "source": [
    "drum_beat = DrumBeat()\n",
    "drum_beat.create_random_song()"
   ]
  },
  {
   "cell_type": "code",
   "execution_count": null,
   "metadata": {},
   "outputs": [
    {
     "name": "stdout",
     "output_type": "stream",
     "text": [
      "Writing beat to beats/rand-beat.mid.\n"
     ]
    }
   ],
   "source": [
    "beat = Beat()\n",
    "beat.create_random_song()"
   ]
  },
  {
   "cell_type": "code",
   "execution_count": null,
   "metadata": {},
   "outputs": [],
   "source": [
    "#| hide\n",
    "import nbdev; nbdev.nbdev_export()"
   ]
  }
 ],
 "metadata": {
  "kernelspec": {
   "display_name": "Python 3 (ipykernel)",
   "language": "python",
   "name": "python3"
  }
 },
 "nbformat": 4,
 "nbformat_minor": 4
}
