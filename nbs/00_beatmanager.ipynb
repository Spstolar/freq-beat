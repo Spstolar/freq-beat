{
 "cells": [
  {
   "cell_type": "markdown",
   "id": "1d7373d3",
   "metadata": {},
   "source": [
    "# manager\n",
    "\n",
    "> where to store beats"
   ]
  },
  {
   "cell_type": "code",
   "execution_count": null,
   "id": "a34b5766",
   "metadata": {},
   "outputs": [],
   "source": [
    "#| default_exp manager"
   ]
  },
  {
   "cell_type": "code",
   "execution_count": null,
   "id": "ae6e2420",
   "metadata": {},
   "outputs": [],
   "source": [
    "#| hide\n",
    "from nbdev.showdoc import *"
   ]
  },
  {
   "cell_type": "code",
   "execution_count": null,
   "id": "5969f545",
   "metadata": {},
   "outputs": [],
   "source": [
    "#| export\n",
    "import os\n",
    "\n",
    "def store_beat(beat, beat_name):\n",
    "    if not os.path.exists(\"beats\"):\n",
    "        os.mkdir('beats')\n",
    "    beat.write(f\"beats/{beat_name}.mid\")"
   ]
  },
  {
   "cell_type": "code",
   "execution_count": null,
   "id": "0365377c",
   "metadata": {},
   "outputs": [],
   "source": [
    "#| hide\n",
    "import nbdev; nbdev.nbdev_export()"
   ]
  }
 ],
 "metadata": {
  "kernelspec": {
   "display_name": "Python 3 (ipykernel)",
   "language": "python",
   "name": "python3"
  }
 },
 "nbformat": 4,
 "nbformat_minor": 5
}
