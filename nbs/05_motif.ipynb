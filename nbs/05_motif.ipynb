{
 "cells": [
  {
   "cell_type": "markdown",
   "id": "4bd1704f",
   "metadata": {},
   "source": [
    "# motif\n",
    "\n",
    "> a generic idea that can be made concrete"
   ]
  },
  {
   "cell_type": "code",
   "execution_count": null,
   "id": "2e407a5a",
   "metadata": {},
   "outputs": [],
   "source": [
    "#| default_exp motif"
   ]
  },
  {
   "cell_type": "code",
   "execution_count": null,
   "id": "2504eedf",
   "metadata": {},
   "outputs": [],
   "source": [
    "#| hide\n",
    "from nbdev.showdoc import *"
   ]
  },
  {
   "cell_type": "markdown",
   "id": "a68691f4",
   "metadata": {},
   "source": [
    "This should be things like \"alternate between two notes\" or \"have a kick every beat with a snare on off-beats\". You will provide generic pitches then a series of notes where we assume the beat length is 1. Then to make it concrete, supply the actual beat length and a map from idea pitches to used pitches."
   ]
  },
  {
   "cell_type": "code",
   "execution_count": null,
   "id": "947e97f1",
   "metadata": {},
   "outputs": [],
   "source": [
    "#| export\n",
    "from pretty_midi import Note\n",
    "from freq_beat.manager import alter_note\n",
    "\n",
    "class Motif:\n",
    "    def __init__(self, contents, end=None):\n",
    "        self.contents = contents\n",
    "        self.end = end  # allow the user to supply end if we want some silence after\n",
    "        if end is None:\n",
    "            self.end = self.determine_end()\n",
    "            \n",
    "    def determine_end(self):\n",
    "        return max([note.end for note in self.contents])\n",
    "    \n",
    "    def concretize(self, beat_length, note_map):\n",
    "        ratio = beat_length\n",
    "        return [alter_note(note, ratio=ratio, new_pitch=note_map.get(note.pitch, note.pitch)) for note in self.contents]"
   ]
  },
  {
   "cell_type": "markdown",
   "id": "e627999b",
   "metadata": {},
   "source": [
    "For example:"
   ]
  },
  {
   "cell_type": "code",
   "execution_count": null,
   "id": "8ac86ddc",
   "metadata": {},
   "outputs": [
    {
     "data": {
      "text/plain": [
       "2"
      ]
     },
     "execution_count": null,
     "metadata": {},
     "output_type": "execute_result"
    }
   ],
   "source": [
    "{\"cat\": 0, \"dog\": 5}.get(\"frog\", 2)"
   ]
  },
  {
   "cell_type": "code",
   "execution_count": null,
   "id": "f12f4cc7",
   "metadata": {},
   "outputs": [],
   "source": [
    "contents = [\n",
    "    Note(start=0, end=1, pitch=0, velocity=80),\n",
    "    Note(start=1, end=2, pitch=0, velocity=80),\n",
    "    Note(start=1, end=2, pitch=1, velocity=80),\n",
    "    Note(start=2, end=3, pitch=0, velocity=80),\n",
    "    Note(start=3, end=4, pitch=0, velocity=80),\n",
    "    Note(start=3, end=4, pitch=1, velocity=80)\n",
    "]\n",
    "\n",
    "motif = Motif(contents)"
   ]
  },
  {
   "cell_type": "code",
   "execution_count": null,
   "id": "73319f2e",
   "metadata": {},
   "outputs": [
    {
     "data": {
      "text/plain": [
       "4"
      ]
     },
     "execution_count": null,
     "metadata": {},
     "output_type": "execute_result"
    }
   ],
   "source": [
    "motif.end"
   ]
  },
  {
   "cell_type": "markdown",
   "id": "3fa0ec0f",
   "metadata": {},
   "source": [
    "has the \"kick\" playing on pitch 0 and the snare playing on pitch 1."
   ]
  },
  {
   "cell_type": "markdown",
   "id": "d42fb863",
   "metadata": {},
   "source": [
    "If you are at 120 BPM, your beat length is actually 0.5 seconds. If your kick MIDI pitch is 50 and your snare MIDI pitch is 55, then you make this concrete with:"
   ]
  },
  {
   "cell_type": "code",
   "execution_count": null,
   "id": "63c18e83",
   "metadata": {},
   "outputs": [
    {
     "data": {
      "text/plain": [
       "[Note(start=0.000000, end=0.500000, pitch=50, velocity=80),\n",
       " Note(start=0.500000, end=1.000000, pitch=50, velocity=80),\n",
       " Note(start=0.500000, end=1.000000, pitch=55, velocity=80),\n",
       " Note(start=1.000000, end=1.500000, pitch=50, velocity=80),\n",
       " Note(start=1.500000, end=2.000000, pitch=50, velocity=80),\n",
       " Note(start=1.500000, end=2.000000, pitch=55, velocity=80)]"
      ]
     },
     "execution_count": null,
     "metadata": {},
     "output_type": "execute_result"
    }
   ],
   "source": [
    "motif.concretize(0.5, {0: 50, 1: 55})"
   ]
  },
  {
   "cell_type": "code",
   "execution_count": null,
   "id": "d3f872da",
   "metadata": {},
   "outputs": [],
   "source": [
    "#| hide\n",
    "import nbdev; nbdev.nbdev_export()"
   ]
  }
 ],
 "metadata": {
  "kernelspec": {
   "display_name": "Python 3 (ipykernel)",
   "language": "python",
   "name": "python3"
  }
 },
 "nbformat": 4,
 "nbformat_minor": 5
}
