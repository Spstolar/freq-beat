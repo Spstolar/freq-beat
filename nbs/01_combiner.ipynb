{
 "cells": [
  {
   "cell_type": "markdown",
   "metadata": {},
   "source": [
    "# combiner\n",
    "\n",
    "> Combiner smaller beats into a song"
   ]
  },
  {
   "cell_type": "code",
   "execution_count": null,
   "metadata": {},
   "outputs": [],
   "source": [
    "#| default_exp beat_combiner"
   ]
  },
  {
   "cell_type": "code",
   "execution_count": null,
   "metadata": {},
   "outputs": [],
   "source": [
    "#| hide\n",
    "from nbdev.showdoc import *"
   ]
  },
  {
   "cell_type": "code",
   "execution_count": null,
   "metadata": {},
   "outputs": [],
   "source": [
    "#| export\n",
    "import os\n",
    "from pathlib import Path\n",
    "from random import choices, random\n",
    "import pretty_midi\n",
    "\n",
    "def transfer_notes_from_beat(beat_notes, target, offset):\n",
    "    for note in beat_notes:\n",
    "        start = note.start + offset\n",
    "        end = note.end + offset\n",
    "        translated_note = pretty_midi.Note(start=start, end=end, velocity=note.velocity, pitch=note.pitch)\n",
    "        target.notes.append(translated_note)"
   ]
  },
  {
   "cell_type": "code",
   "execution_count": null,
   "metadata": {},
   "outputs": [],
   "source": [
    "def create_combined_beat(random_beat_list=None):\n",
    "    if random_beat_list is None:\n",
    "        beat_cats = ['basic', 'metal', 'misc']\n",
    "        beat_folders = [Path(\"beats\") / cat for cat in beat_cats]\n",
    "\n",
    "        beats = []\n",
    "        for folder in beat_folders:\n",
    "            beats_in_folder = os.listdir(folder)\n",
    "            for beat in beats_in_folder:\n",
    "                beat_filename = folder / beat\n",
    "                beats.append(beat_filename)\n",
    "        random_beat_list = choices(beats, k=10)\n",
    "    offset = 0\n",
    "\n",
    "    for beat_file in random_beat_list:\n",
    "        beat = pretty_midi.PrettyMIDI(str(beat_file))\n",
    "        beat_notes = beat.instruments[0].notes\n",
    "        transfer_notes_from_beat(beat_notes, drums, offset)\n",
    "        offset += beat.get_end_time()\n",
    "\n",
    "    new_song = pretty_midi.PrettyMIDI()\n",
    "    drums = pretty_midi.Instrument(program=0)\n",
    "    new_song.instruments.append(drums)\n",
    "    new_song.write(\"beats/test-drums.mid\")"
   ]
  },
  {
   "cell_type": "code",
   "execution_count": null,
   "metadata": {},
   "outputs": [],
   "source": [
    "#| hide\n",
    "import nbdev; nbdev.nbdev_export()"
   ]
  }
 ],
 "metadata": {
  "kernelspec": {
   "display_name": "Python 3 (ipykernel)",
   "language": "python",
   "name": "python3"
  }
 },
 "nbformat": 4,
 "nbformat_minor": 4
}
