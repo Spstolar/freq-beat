{
 "cells": [
  {
   "cell_type": "markdown",
   "metadata": {},
   "source": [
    "# randrum\n",
    "\n",
    "> Makes a random drum beat"
   ]
  },
  {
   "cell_type": "code",
   "execution_count": null,
   "metadata": {},
   "outputs": [],
   "source": [
    "#| default_exp randrum"
   ]
  },
  {
   "cell_type": "code",
   "execution_count": null,
   "metadata": {},
   "outputs": [],
   "source": [
    "#| hide\n",
    "from nbdev.showdoc import *"
   ]
  },
  {
   "cell_type": "code",
   "execution_count": null,
   "metadata": {},
   "outputs": [],
   "source": [
    "#| export\n",
    "def foo(): pass"
   ]
  },
  {
   "cell_type": "code",
   "execution_count": null,
   "metadata": {},
   "outputs": [],
   "source": [
    "\n"
   ]
  },
  {
   "cell_type": "code",
   "execution_count": null,
   "metadata": {},
   "outputs": [],
   "source": [
    "#| export\n",
    "midi_note_to_drum_name = {\n",
    "    35: \"KickL\",\n",
    "    36: \"KickR\",\n",
    "    37: \"SnareRest\",\n",
    "    38: \"Snare\",\n",
    "    41: \"Tom4\",\n",
    "    42: \"HihatClosed\",\n",
    "    45: \"Tom3\",\n",
    "    46: \"HihatOpen\",\n",
    "    47: \"Tom2\",\n",
    "    48: \"Tom1\",\n",
    "    49: \"CrashL\",\n",
    "    51: \"RideR\",\n",
    "    52: \"China\",\n",
    "    53: \"RideRBell\",\n",
    "    55: \"RideLBell\",\n",
    "    57: \"CrashR\",\n",
    "    59: \"RideL\",\n",
    "}\n",
    "\n",
    "drum_name_to_note = {v: k for k, v in midi_note_to_drum_name.items()}\n",
    "\n",
    "drum_names = list(drum_name_to_note.keys())\n",
    "feet = ['KickL', 'KickR']\n",
    "hands = ['SnareRest', 'Snare', 'Tom4', 'HihatClosed', 'Tom3', 'HihatOpen', 'Tom2', 'Tom1', 'CrashL', 'RideR', 'China', 'RideRBell', 'RideLBell', 'CrashR', 'RideL']\n",
    "\n",
    "\n",
    "def drum_cleaner(drum_notes):\n",
    "    # TODO\n",
    "    # check that we do not have overlapping kicks\n",
    "    # check that L and R kick alternate\n",
    "    # make sure we do not have 3 hand drums playing at the same time\n",
    "    cleaned_drum_notes = drum_notes\n",
    "    return cleaned_drum_notes"
   ]
  },
  {
   "cell_type": "code",
   "execution_count": null,
   "metadata": {},
   "outputs": [],
   "source": [
    "#| export\n",
    "import pretty_midi\n",
    "import random\n",
    "\n",
    "class DrumBeat:\n",
    "    def __init__(self) -> None:\n",
    "        self.song = pretty_midi.PrettyMIDI()\n",
    "        self.drums = pretty_midi.Instrument(program=0)\n",
    "\n",
    "    def create_random_line(self, beat_length, drum_group, song_length=10, play_prob=0.4):\n",
    "        num_beats = int(song_length // beat_length)\n",
    "        for i in range(num_beats):\n",
    "            play = random.uniform(0, 1) < play_prob\n",
    "            if play:\n",
    "                drum_to_play = random.choice(drum_group)\n",
    "                pitch = drum_name_to_note[drum_to_play]\n",
    "                start = i * beat_length\n",
    "                end = start + beat_length\n",
    "                note = pretty_midi.Note(start=start, end=end, velocity=80, pitch=pitch)\n",
    "                self.drums.notes.append(note)\n",
    "\n",
    "    def create_random_song(self):\n",
    "        self.create_random_line(0.25, feet, play_prob=.75)\n",
    "        self.create_random_line(0.25, hands)\n",
    "        self.create_random_line(0.25, hands)\n",
    "        self.song.instruments.append(self.drums)\n",
    "        self.song.write(\"beats/rand-drum-beat.mid\")"
   ]
  },
  {
   "cell_type": "code",
   "execution_count": null,
   "metadata": {},
   "outputs": [],
   "source": [
    "#| hide\n",
    "import nbdev; nbdev.nbdev_export()"
   ]
  }
 ],
 "metadata": {
  "kernelspec": {
   "display_name": "Python 3 (ipykernel)",
   "language": "python",
   "name": "python3"
  }
 },
 "nbformat": 4,
 "nbformat_minor": 4
}
