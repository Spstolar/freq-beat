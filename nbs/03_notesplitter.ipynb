{
 "cells": [
  {
   "cell_type": "markdown",
   "id": "1d7373d3",
   "metadata": {},
   "source": [
    "# splitter\n",
    "\n",
    "> take a MIDI note and chop it up for glitching/ratcheting effects"
   ]
  },
  {
   "cell_type": "code",
   "execution_count": null,
   "id": "a34b5766",
   "metadata": {},
   "outputs": [],
   "source": [
    "#| default_exp splitter"
   ]
  },
  {
   "cell_type": "code",
   "execution_count": null,
   "id": "ae6e2420",
   "metadata": {},
   "outputs": [],
   "source": [
    "#| hide\n",
    "from nbdev.showdoc import *"
   ]
  },
  {
   "cell_type": "code",
   "execution_count": null,
   "id": "a31a257c",
   "metadata": {},
   "outputs": [],
   "source": [
    "#| export\n",
    "from pretty_midi import Note\n",
    "\n",
    "def copy_note(note: Note, start=None, end=None, velocity=None, pitch=None):\n",
    "    if start is None:\n",
    "        start = note.start\n",
    "    if end is None:\n",
    "        end = note.end\n",
    "    if velocity is None:\n",
    "        velocity = note.velocity\n",
    "    if pitch is None:\n",
    "        pitch = note.pitch\n",
    "    \n",
    "    return Note(start=start, end=end, velocity=velocity, pitch=pitch)\n",
    "    \n",
    "def split_note(note: Note, num_pieces):\n",
    "    start = note.start\n",
    "    pitch = note.pitch\n",
    "    velocity = note.velocity\n",
    "    note_length = note.end - note.start\n",
    "    piece_length = note_length / num_pieces\n",
    "    start_times = map(lambda x: start + x * piece_length, range(num_pieces))\n",
    "    return [copy_note(note, start=piece_start, end=piece_start + piece_length) for piece_start in start_times]"
   ]
  },
  {
   "cell_type": "code",
   "execution_count": null,
   "id": "44802816",
   "metadata": {},
   "outputs": [],
   "source": [
    "note = Note(start=2, end=4, velocity=80, pitch=40)"
   ]
  },
  {
   "cell_type": "code",
   "execution_count": null,
   "id": "fc809535",
   "metadata": {},
   "outputs": [
    {
     "data": {
      "text/plain": [
       "[Note(start=2.000000, end=2.500000, pitch=40, velocity=80),\n",
       " Note(start=2.500000, end=3.000000, pitch=40, velocity=80),\n",
       " Note(start=3.000000, end=3.500000, pitch=40, velocity=80),\n",
       " Note(start=3.500000, end=4.000000, pitch=40, velocity=80)]"
      ]
     },
     "execution_count": null,
     "metadata": {},
     "output_type": "execute_result"
    }
   ],
   "source": [
    "split_note(note, num_pieces=4)"
   ]
  },
  {
   "cell_type": "code",
   "execution_count": null,
   "id": "0365377c",
   "metadata": {},
   "outputs": [],
   "source": [
    "#| hide\n",
    "import nbdev; nbdev.nbdev_export()"
   ]
  }
 ],
 "metadata": {
  "kernelspec": {
   "display_name": "Python 3 (ipykernel)",
   "language": "python",
   "name": "python3"
  }
 },
 "nbformat": 4,
 "nbformat_minor": 5
}
