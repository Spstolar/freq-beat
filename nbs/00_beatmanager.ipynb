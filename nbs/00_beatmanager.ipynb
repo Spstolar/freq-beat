{
 "cells": [
  {
   "cell_type": "markdown",
   "id": "a1d93585",
   "metadata": {},
   "source": [
    "# manager\n",
    "\n",
    "> where to store beats"
   ]
  },
  {
   "cell_type": "code",
   "execution_count": null,
   "id": "c53c188a",
   "metadata": {},
   "outputs": [],
   "source": [
    "#| default_exp manager"
   ]
  },
  {
   "cell_type": "code",
   "execution_count": null,
   "id": "72fe6918",
   "metadata": {},
   "outputs": [],
   "source": [
    "#| hide\n",
    "from nbdev.showdoc import *"
   ]
  },
  {
   "cell_type": "code",
   "execution_count": null,
   "id": "add5a552",
   "metadata": {},
   "outputs": [],
   "source": [
    "import os"
   ]
  },
  {
   "cell_type": "code",
   "execution_count": null,
   "id": "5c9b7c50",
   "metadata": {},
   "outputs": [],
   "source": [
    "#| export\n",
    "def store_beat(beat, beat_name):\n",
    "    if not os.path.exists(\"beats\"):\n",
    "        os.mkdir('beats')\n",
    "    beat.write(f\"beats/{beat_name}.mid\")"
   ]
  },
  {
   "cell_type": "code",
   "execution_count": null,
   "id": "5d2a412b",
   "metadata": {},
   "outputs": [],
   "source": [
    "#| hide\n",
    "import nbdev; nbdev.nbdev_export()"
   ]
  }
 ],
 "metadata": {
  "kernelspec": {
   "display_name": "Python 3 (ipykernel)",
   "language": "python",
   "name": "python3"
  }
 },
 "nbformat": 4,
 "nbformat_minor": 5
}
